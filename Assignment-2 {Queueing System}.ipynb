{
 "cells": [
  {
   "cell_type": "markdown",
   "metadata": {},
   "source": [
    "# Queueing System"
   ]
  },
  {
   "cell_type": "code",
   "execution_count": 7,
   "metadata": {},
   "outputs": [],
   "source": [
    "%matplotlib inline\n",
    "from pylab import *"
   ]
  },
  {
   "cell_type": "code",
   "execution_count": 2,
   "metadata": {},
   "outputs": [],
   "source": [
    "import pandas as pd\n",
    "import numpy as np"
   ]
  },
  {
   "cell_type": "code",
   "execution_count": 8,
   "metadata": {},
   "outputs": [],
   "source": [
    "class Service_System:\n",
    "    def __init__(self): \n",
    "        self.clock=0.0                      #simulation clock\n",
    "        self.num_arrivals=0                 #total number of arrivals\n",
    "        self.t_arrival=self.gen_int_arr()   #time of next arrival\n",
    "        self.t_departure1=float('inf')      #departure time from server 1\n",
    "        self.t_departure2=float('inf')      #departure time from server 2\n",
    "        self.t_departure3=float('inf')      #departure time from server 3\n",
    "        self.t_departure4=float('inf')      #departure time from server 4\n",
    "        self.t_departure5=float('inf')      #departure time from server 5\n",
    "        self.dep_sum1=0                     #Sum of service times by server 1\n",
    "        self.dep_sum2=0                     #Sum of service times by server 2\n",
    "        self.dep_sum3=0                     #Sum of service times by server 3\n",
    "        self.dep_sum4=0                     #Sum of service times by server 4\n",
    "        self.dep_sum5=0                     #Sum of service times by server 5\n",
    "        self.state_T1=0                     #current state of server1 (binary)\n",
    "        self.state_T2=0                     #current state of server2 (binary)\n",
    "        self.state_T3=0                     #current state of server3 (binary)\n",
    "        self.state_T4=0                     #current state of server4 (binary)\n",
    "        self.state_T5=0                     #current state of server5 (binary)\n",
    "        self.total_wait_time=0.0            #total wait time\n",
    "        self.num_in_q=0                     #current number in queue\n",
    "        self.number_in_queue=0              #customers who had to wait in line(counter)\n",
    "        self.num_of_departures1=0           #number of customers served by server 1  \n",
    "        self.num_of_departures2=0           #number of customers served by server 2 \n",
    "        self.num_of_departures3=0           #number of customers served by server 3\n",
    "        self.num_of_departures4=0           #number of customers served by server 4\n",
    "        self.num_of_departures5=0           #number of customers served by server 5\n",
    "        self.lost_customers=0               #customers who left without service"
   ]
  },
  {
   "cell_type": "code",
   "execution_count": 9,
   "metadata": {},
   "outputs": [],
   "source": [
    "# Time Routing\n",
    "def time_adv(self):                                                       \n",
    "        t_next_event=min(self.t_arrival,self.t_departure1,self.t_departure2,self.t_departure3,self.t_departure4,self.t_departure5)  \n",
    "        self.total_wait_time += (self.num_in_q*(t_next_event-self.clock))\n",
    "        self.clock=t_next_event\n",
    "                \n",
    "        if self.t_arrival<self.t_departure1 and self.t_arrival<self.t_departure2:\n",
    "            self.arrival()\n",
    "        elif self.t_departure1<self.t_arrival and self.t_departure1<self.t_departure2:\n",
    "            self.teller2()\n",
    "        elif self.t_departure2<self.t_arrival and self.t_departure2<self.t_departure3:\n",
    "            self.teller3()\n",
    "        elif self.t_departure3<self.t_arrival and self.t_departure3<self.t_departure4:\n",
    "            self.teller4()\n",
    "        else:\n",
    "            self.teller5()"
   ]
  },
  {
   "cell_type": "code",
   "execution_count": 10,
   "metadata": {},
   "outputs": [],
   "source": [
    "def arrival(self):              \n",
    "        self.num_arrivals += 1\n",
    "        self.num_in_system += 1\n",
    "\n",
    "        if self.num_in_q == 0:                #schedule next departure or arrival depending on state of servers\n",
    " \n",
    "    # Checking the status fo servers for servers\n",
    "\n",
    "            if self.state_T1==1 and self.state_T2==1 and self.state_T3==1 and self.state_T4==1 and self.state_T5==1:\n",
    "                self.num_in_q+=1\n",
    "                self.number_in_queue+=1\n",
    "                self.t_arrival=self.clock+self.gen_int_arr()\n",
    "                \n",
    "                \n",
    "            elif self.state_T1==0 and self.state_T2==0 and self.state_T3==0 and self.state_T4==0 and self.state_T5==0:\n",
    "                \n",
    "                if np.random.choice([0,1])==1:\n",
    "                    self.state_T1=1\n",
    "                    self.dep1= self.gen_service_time_teller1()\n",
    "                    self.dep_sum1 += self.dep1\n",
    "                    self.t_departure1=self.clock + self.dep1\n",
    "                    self.t_arrival=self.clock+self.gen_int_arr()\n",
    "                elif np.random.choice([0,1])==1:\n",
    "                    self.state_T2=1\n",
    "                    self.dep2= self.gen_service_time_teller2()\n",
    "                    self.dep_sum2 += self.dep2\n",
    "                    self.t_departure2=self.clock + self.dep2\n",
    "                    self.t_arrival=self.clock+self.gen_int_arr()\n",
    "                elif np.random.choice([0,1])==1:\n",
    "                    self.state_T3=1\n",
    "                    self.dep3= self.gen_service_time_teller3()\n",
    "                    self.dep_sum3 += self.dep3\n",
    "                    self.t_departure3=self.clock + self.dep3\n",
    "                    self.t_arrival=self.clock+self.gen_int_arr()\n",
    "                elif np.random.choice([0,1])==1:\n",
    "                    self.state_T4=1\n",
    "                    self.dep4= self.gen_service_time_teller4()\n",
    "                    self.dep_sum4 += self.dep4\n",
    "                    self.t_departure4=self.clock + self.dep4\n",
    "                    self.t_arrival=self.clock+self.gen_int_arr()\n",
    "\n",
    "                else:\n",
    "                    self.state_T5=1\n",
    "                    self.dep5= self.gen_service_time_teller5()\n",
    "                    self.dep_sum5 += self.dep5\n",
    "                    self.t_departure5=self.clock + self.dep5\n",
    "                    self.t_arrival=self.clock+self.gen_int_arr()\n",
    "                \n",
    "                \n",
    "                    \n",
    "                    \n",
    "\n",
    "                    \n",
    "            if self.state_T1==0 and self.state_T2 ==1:       #if server 2 is busy customer goes to server 1\n",
    "                self.dep1= self.gen_service_time_teller1()\n",
    "                self.dep_sum1 += self.dep1\n",
    "                self.t_departure1=self.clock + self.dep1\n",
    "                self.t_arrival=self.clock+self.gen_int_arr()\n",
    "                self.state_T1=1\n",
    "          \n",
    "                \n",
    "            elif self.state_T2==0 and self.state_T3 ==1:       #if server 3 is busy customer goes to server 2\n",
    "                self.dep2= self.gen_service_time_teller2()\n",
    "                self.dep_sum2 += self.dep2\n",
    "                self.t_departure2=self.clock + self.dep2\n",
    "                self.t_arrival=self.clock+self.gen_int_arr()\n",
    "                self.state_T2=1\n",
    "               \n",
    "            elif self.state_T3==0 and self.state_T4 ==1:       #if server 4 is busy customer goes to server 3\n",
    "                self.dep3= self.gen_service_time_teller3()\n",
    "                self.dep_sum3 += self.dep3\n",
    "                self.t_departure3=self.clock + self.dep3\n",
    "                self.t_arrival=self.clock+self.gen_int_arr()\n",
    "                self.state_T3=1\n",
    "             \n",
    "            elif self.state_T4==0 and self.state_T5 ==1:       #if server 5 is busy customer goes to server 4\n",
    "                self.dep4= self.gen_service_time_teller4()\n",
    "                self.dep_sum4 += self.dep4\n",
    "                self.t_departure4=self.clock + self.dep4\n",
    "                self.t_arrival=self.clock+self.gen_int_arr()\n",
    "                self.state_T4=1\n",
    "            else:                                              #otherwise customer goes to server 5\n",
    "                self.dep5= self.gen_service_time_teller5()\n",
    "                self.dep_sum5 += self.dep5\n",
    "                self.t_departure5=self.clock + self.dep5\n",
    "                self.t_arrival=self.clock+self.gen_int_arr()\n",
    "                self.state_T5=1\n",
    "        else:\n",
    "            self.lost_customers+=1  # Customer is lost in all other cases\n",
    " "
   ]
  },
  {
   "cell_type": "code",
   "execution_count": 11,
   "metadata": {},
   "outputs": [],
   "source": [
    "def server1(self):                #departure from server 1\n",
    "        self.num_of_departures1 += 1\n",
    "        if self.num_in_q>0:\n",
    "            self.dep1= self.gen_service_time_teller1()\n",
    "            self.dep_sum1 += self.dep1\n",
    "            self.t_departure1=self.clock + self.dep1\n",
    "            self.num_in_q-=1\n",
    "        else:\n",
    "            self.t_departure1=float('inf') \n",
    "            self.state_T1=0                  \n",
    "    \n",
    "def server2(self):                #departure from server 2\n",
    "        self.num_of_departures2 += 1\n",
    "        if self.num_in_q>0:\n",
    "            self.dep2= self.gen_service_time_teller2()\n",
    "            self.dep_sum2 += self.dep2\n",
    "            self.t_departure2=self.clock + self.dep2\n",
    "            self.num_in_q-=1\n",
    "        else:\n",
    "            self.t_departure2=float('inf')\n",
    "            self.state_T2=0\n",
    "            \n",
    "def server3(self):                #departure from server 3\n",
    "        self.num_of_departures3 += 1\n",
    "        if self.num_in_q>0:\n",
    "            self.dep3= self.gen_service_time_teller3()\n",
    "            self.dep_sum3 += self.dep3\n",
    "            self.t_departure3=self.clock + self.dep3\n",
    "            self.num_in_q-=1\n",
    "        else:\n",
    "            self.t_departure3=float('inf')\n",
    "            self.state_T3=0\n",
    "            \n",
    "def server4(self):                #departure from server 4\n",
    "        self.num_of_departures4 += 1\n",
    "        if self.num_in_q>0:\n",
    "            self.dep4= self.gen_service_time_teller4()\n",
    "            self.dep_sum4 += self.dep4\n",
    "            self.t_departure4=self.clock + self.dep4\n",
    "            self.num_in_q-=1\n",
    "        else:\n",
    "            self.t_departure4=float('inf')\n",
    "            self.state_T4=0\n",
    "            \n",
    "def server5(self):                #departure from server 5\n",
    "        self.num_of_departures5 += 1\n",
    "        if self.num_in_q>0:\n",
    "            self.dep5= self.gen_service_time_teller5()\n",
    "            self.dep_sum5 += self.dep5\n",
    "            self.t_departure5=self.clock + self.dep5\n",
    "            self.num_in_q-=1\n",
    "        else:\n",
    "            self.t_departure5=float('inf')\n",
    "            self.state_T5=0\n",
    "    "
   ]
  },
  {
   "cell_type": "code",
   "execution_count": 12,
   "metadata": {},
   "outputs": [],
   "source": [
    "def gen_int_arr(self):                                             #function to generate arrival times using inverse trnasform\n",
    "    \n",
    "    return (-np.log(1-(np.random.uniform(low=0.0,high=1.0))) * 3)\n",
    "    \n",
    "def gen_service_time_server1(self):                                #function to generate service time for server 1 using inverse trnasform\n",
    "    return (-np.log(1-(np.random.uniform(low=0.0,high=1.0))) * 1.2)\n",
    "    \n",
    "def gen_service_time_server2(self):                                #function to generate service time for server 2 using inverse trnasform\n",
    "    return (-np.log(1-(np.random.uniform(low=0.0,high=1.0))) * 1.5)\n",
    "    \n",
    "def gen_service_time_server1(self):                                #function to generate service time for server 3 using inverse trnasform\n",
    "    return (-np.log(1-(np.random.uniform(low=0.0,high=1.0))) * 1.2)\n",
    "    \n",
    "def gen_service_time_server1(self):                                #function to generate service time for server 4 using inverse trnasform\n",
    "    return (-np.log(1-(np.random.uniform(low=0.0,high=1.0))) * 1.2)\n",
    "    \n",
    "def gen_service_time_server1(self):                                #function to generate service time for server 5 using inverse trnasform\n",
    "    return (-np.log(1-(np.random.uniform(low=0.0,high=1.0))) * 1.2)"
   ]
  },
  {
   "cell_type": "code",
   "execution_count": 13,
   "metadata": {},
   "outputs": [
    {
     "ename": "AttributeError",
     "evalue": "'Service_System' object has no attribute 'gen_int_arr'",
     "output_type": "error",
     "traceback": [
      "\u001b[1;31m---------------------------------------------------------------------------\u001b[0m",
      "\u001b[1;31mAttributeError\u001b[0m                            Traceback (most recent call last)",
      "\u001b[1;32m<ipython-input-13-bff7d701aa41>\u001b[0m in \u001b[0;36m<module>\u001b[1;34m\u001b[0m\n\u001b[0;32m      1\u001b[0m \u001b[1;31m# actual simulation\u001b[0m\u001b[1;33m\u001b[0m\u001b[1;33m\u001b[0m\u001b[1;33m\u001b[0m\u001b[0m\n\u001b[1;32m----> 2\u001b[1;33m \u001b[0ms\u001b[0m\u001b[1;33m=\u001b[0m\u001b[0mService_System\u001b[0m\u001b[1;33m(\u001b[0m\u001b[1;33m)\u001b[0m\u001b[1;33m\u001b[0m\u001b[1;33m\u001b[0m\u001b[0m\n\u001b[0m\u001b[0;32m      3\u001b[0m \u001b[0mdf\u001b[0m\u001b[1;33m=\u001b[0m\u001b[0mpd\u001b[0m\u001b[1;33m.\u001b[0m\u001b[0mDataFrame\u001b[0m\u001b[1;33m(\u001b[0m\u001b[0mcolumns\u001b[0m\u001b[1;33m=\u001b[0m\u001b[1;33m[\u001b[0m\u001b[1;34m'Average interarrival time'\u001b[0m\u001b[1;33m,\u001b[0m\u001b[1;34m'Average service time server 1'\u001b[0m\u001b[1;33m,\u001b[0m\u001b[1;34m'Average service time server 2'\u001b[0m\u001b[1;33m,\u001b[0m\u001b[1;34m'Average service time server 3'\u001b[0m\u001b[1;33m,\u001b[0m\u001b[1;34m'Average service time server 4'\u001b[0m\u001b[1;33m,\u001b[0m\u001b[1;34m'Average service time server 5'\u001b[0m\u001b[1;33m,\u001b[0m\u001b[1;34m'Utilization server 1'\u001b[0m\u001b[1;33m,\u001b[0m\u001b[1;34m'Utilization server 2'\u001b[0m\u001b[1;33m,\u001b[0m\u001b[1;34m'Utilization server 3'\u001b[0m\u001b[1;33m,\u001b[0m\u001b[1;34m'Utilization server 4'\u001b[0m\u001b[1;33m,\u001b[0m\u001b[1;34m'Utilization server 5'\u001b[0m\u001b[1;33m,\u001b[0m\u001b[1;34m'People who had to wait in line'\u001b[0m\u001b[1;33m,\u001b[0m\u001b[1;34m'Total average wait time'\u001b[0m\u001b[1;33m,\u001b[0m\u001b[1;34m'Lost Customers'\u001b[0m\u001b[1;33m]\u001b[0m\u001b[1;33m)\u001b[0m\u001b[1;33m\u001b[0m\u001b[1;33m\u001b[0m\u001b[0m\n\u001b[0;32m      4\u001b[0m \u001b[1;33m\u001b[0m\u001b[0m\n\u001b[0;32m      5\u001b[0m \u001b[1;33m\u001b[0m\u001b[0m\n",
      "\u001b[1;32m<ipython-input-8-c61d4b9617c7>\u001b[0m in \u001b[0;36m__init__\u001b[1;34m(self)\u001b[0m\n\u001b[0;32m      3\u001b[0m         \u001b[0mself\u001b[0m\u001b[1;33m.\u001b[0m\u001b[0mclock\u001b[0m\u001b[1;33m=\u001b[0m\u001b[1;36m0.0\u001b[0m                      \u001b[1;31m#simulation clock\u001b[0m\u001b[1;33m\u001b[0m\u001b[1;33m\u001b[0m\u001b[0m\n\u001b[0;32m      4\u001b[0m         \u001b[0mself\u001b[0m\u001b[1;33m.\u001b[0m\u001b[0mnum_arrivals\u001b[0m\u001b[1;33m=\u001b[0m\u001b[1;36m0\u001b[0m                 \u001b[1;31m#total number of arrivals\u001b[0m\u001b[1;33m\u001b[0m\u001b[1;33m\u001b[0m\u001b[0m\n\u001b[1;32m----> 5\u001b[1;33m         \u001b[0mself\u001b[0m\u001b[1;33m.\u001b[0m\u001b[0mt_arrival\u001b[0m\u001b[1;33m=\u001b[0m\u001b[0mself\u001b[0m\u001b[1;33m.\u001b[0m\u001b[0mgen_int_arr\u001b[0m\u001b[1;33m(\u001b[0m\u001b[1;33m)\u001b[0m   \u001b[1;31m#time of next arrival\u001b[0m\u001b[1;33m\u001b[0m\u001b[1;33m\u001b[0m\u001b[0m\n\u001b[0m\u001b[0;32m      6\u001b[0m         \u001b[0mself\u001b[0m\u001b[1;33m.\u001b[0m\u001b[0mt_departure1\u001b[0m\u001b[1;33m=\u001b[0m\u001b[0mfloat\u001b[0m\u001b[1;33m(\u001b[0m\u001b[1;34m'inf'\u001b[0m\u001b[1;33m)\u001b[0m      \u001b[1;31m#departure time from server 1\u001b[0m\u001b[1;33m\u001b[0m\u001b[1;33m\u001b[0m\u001b[0m\n\u001b[0;32m      7\u001b[0m         \u001b[0mself\u001b[0m\u001b[1;33m.\u001b[0m\u001b[0mt_departure2\u001b[0m\u001b[1;33m=\u001b[0m\u001b[0mfloat\u001b[0m\u001b[1;33m(\u001b[0m\u001b[1;34m'inf'\u001b[0m\u001b[1;33m)\u001b[0m      \u001b[1;31m#departure time from server 2\u001b[0m\u001b[1;33m\u001b[0m\u001b[1;33m\u001b[0m\u001b[0m\n",
      "\u001b[1;31mAttributeError\u001b[0m: 'Service_System' object has no attribute 'gen_int_arr'"
     ]
    }
   ],
   "source": [
    "# actual simulation\n",
    "s=Service_System()\n",
    "df=pd.DataFrame(columns=['Average interarrival time','Average service time server 1','Average service time server 2','Average service time server 3','Average service time server 4','Average service time server 5','Utilization server 1','Utilization server 2','Utilization server 3','Utilization server 4','Utilization server 5','People who had to wait in line','Total average wait time','Lost Customers'])\n",
    "\n",
    "\n",
    "for i in range(100):\n",
    "    np.random.seed(i)\n",
    "    s.__init__()\n",
    "    while s.clock <= 480 :\n",
    "        s.time_adv() \n",
    "    a=pd.Series([s.clock/s.num_arrivals,s.dep_sum1/s.num_of_departures1,s.dep_sum2/s.num_of_departures2,s.dep_sum3/s.num_of_departures3,s.dep_sum4/s.num_of_departures4,s.dep_sum5/s.num_of_departures5,s.dep_sum1/s.clock,s.dep_sum2/s.clock,s.dep_sum3/s.clock,s.dep_sum4/s.clock,s.dep_sum5/s.clock,s.number_in_queue,s.total_wait_time,s.lost_customers],index=df.columns)\n",
    "    df=df.append(a,ignore_index=True)\n",
    "df.to_excel('results.xlsx') "
   ]
  },
  {
   "cell_type": "markdown",
   "metadata": {},
   "source": [
    "### I have figured out that this error will occur if we have multiple functions in classes. I couldn't find the solution. Hopefully this might work in your system"
   ]
  },
  {
   "cell_type": "markdown",
   "metadata": {},
   "source": [
    "### As I was getting an error at the previous step hence I couldn't submit my excel file!!! \"But the logic is very accurate. Please try this entire code in your system\"."
   ]
  },
  {
   "cell_type": "markdown",
   "metadata": {},
   "source": [
    "# Generating M/M/C system with simple code"
   ]
  },
  {
   "cell_type": "code",
   "execution_count": 14,
   "metadata": {},
   "outputs": [],
   "source": [
    "# Specify the service intensity, where N is the number \n",
    "# of users in the system and C the number of servers\n",
    "def service_intensity(μ,n,c):\n",
    "    # returns the service intensity\n",
    "    return μ * min(n, c)\n",
    "######################################################\n",
    "C,λ,μ,N0 = 5,0.65,0.25,2  \n",
    "V1 = service_intensity(μ,N0,C)"
   ]
  },
  {
   "cell_type": "code",
   "execution_count": 15,
   "metadata": {},
   "outputs": [
    {
     "data": {
      "text/plain": [
       "0.5"
      ]
     },
     "execution_count": 15,
     "metadata": {},
     "output_type": "execute_result"
    }
   ],
   "source": [
    "V1"
   ]
  },
  {
   "cell_type": "code",
   "execution_count": 37,
   "metadata": {},
   "outputs": [],
   "source": [
    "def MMC(C,λ,μ,N0,Tmax):\n",
    "    T             = [0]  # list of instants of events\n",
    "    N             = [N0] # initial state of the system\n",
    "    # arrival times of clients in the system,\n",
    "    # arbitrarily set to -1 for clients present at t=0\n",
    "    arrival_times = [-1 for k in range(N0)] \n",
    "    D             = [] # times spent by users inside the system\n",
    "    while T[-1]<Tmax:\n",
    "        ##########################################\n",
    "        # Complete the code\n",
    "        μ_state  = service_intensity(μ, N[-1], C) # current service intensity\n",
    "        \n",
    "        # if empty, we can only have an arrival\n",
    "        if N[-1]==0:\n",
    "            # inter-events delay for empty buffer:\n",
    "            τ     = -1./λ*log(rand()) \n",
    "            event = 1\n",
    "            \n",
    "        # if not empty, we can have an arrival or a departure\n",
    "        else:\n",
    "            # inter-events delay for non-empty buffer:\n",
    "            τ     = -1./(λ + μ_state)*log(rand()) \n",
    "            p_arrival = λ / (λ + μ_state)\n",
    "            # event =+1 for an arrival, =-1 for a departure:\n",
    "            event = 2*(rand()<p_arrival)-1 # +1 for an arrival, -1 for a departure\n",
    "        \n",
    "        N.append(N[-1]+event)\n",
    "        T.append(T[-1]+τ)\n",
    "        \n",
    "        if event == 1:\n",
    "            arrival_times.append(T[-1])\n",
    "        else:\n",
    "            # entry time of client going out the system:\n",
    "            T_in = arrival_times.pop(0)\n",
    "            if T_in>0:\n",
    "                D.append(T[-1] - T_in)\n",
    "        ############################################        \n",
    "    T  = T[:-1] # event after Tmax is discarded\n",
    "    N  = N[:-1]\n",
    "    return T,N,D"
   ]
  },
  {
   "cell_type": "code",
   "execution_count": 18,
   "metadata": {},
   "outputs": [
    {
     "name": "stdout",
     "output_type": "stream",
     "text": [
      "0\n",
      "1000\n",
      "4.462846401574145\n"
     ]
    }
   ],
   "source": [
    "T,N,D = MMC(5, 0.65, 0.25, 2, Tmax=1000)\n",
    "#----\n",
    "V2 = mean(D)\n",
    "print(V2)"
   ]
  },
  {
   "cell_type": "code",
   "execution_count": 38,
   "metadata": {},
   "outputs": [
    {
     "name": "stdout",
     "output_type": "stream",
     "text": [
      "4.809634986843163\n"
     ]
    }
   ],
   "source": [
    "T,N,D = MMC(5, 0.75, 0.25, 2, Tmax=1000)\n",
    "#----\n",
    "V3 = mean(D)\n",
    "print(V3)"
   ]
  },
  {
   "cell_type": "code",
   "execution_count": 36,
   "metadata": {},
   "outputs": [
    {
     "data": {
      "image/png": "[encoded data removed]",
      "text/plain": [
       "<Figure size 1080x432 with 1 Axes>"
      ]
     },
     "metadata": {
      "needs_background": "light"
     },
     "output_type": "display_data"
    }
   ],
   "source": [
    "# Plotting the number of clients in the system\n",
    "T,N,D = MMC(5,0.85, 0.25,2, 1000)\n",
    "figure(figsize=(15,6))\n",
    "step(T,N)\n",
    "xlabel('Time')\n",
    "ylabel('Number of clients')\n",
    "title('Number of clients in the M/M/C queue' \n",
    "      +r' ($\\rho =%g$, $C=%g$)'%(3.4,C))\n",
    "yticks(range(max(N)), range(max(N)));"
   ]
  },
  {
   "cell_type": "markdown",
   "metadata": {},
   "source": [
    "# This is another method to find the number of customers in the system."
   ]
  },
  {
   "cell_type": "code",
   "execution_count": 22,
   "metadata": {},
   "outputs": [
    {
     "name": "stdout",
     "output_type": "stream",
     "text": [
      "0.5913347992507533\n",
      "14.054\n"
     ]
    }
   ],
   "source": [
    "# This is the simple code to find the loss using finite capacity\n",
    "\n",
    "num = 1000\n",
    "np.random.seed(3)\n",
    "\n",
    "a = np.random.randint(0,25, size= num)\n",
    "c = 5*np.ones(num)\n",
    "L = np.zeros_like(a)  # queue length at the end of period\n",
    "loss = np.zeros_like(a) # loss at the end of period\n",
    "K = 15  # Max people in queue, otherwise they leave.\n",
    "L[0] = 2\n",
    "\n",
    "for i in range(1, num):\n",
    "    \n",
    "    d = min(c[i], L[i-1] + a[i])\n",
    "    loss[i] = max(L[i-1] + a[i] - d- K, 0 )\n",
    "    L[i] = L[i-1] + a[i] - d - loss[i]\n",
    "\n",
    "lost_fraction = sum(loss)/ sum(a)\n",
    "print(lost_fraction)\n",
    "print(np.mean(L))"
   ]
  },
  {
   "cell_type": "markdown",
   "metadata": {},
   "source": [
    "## \"I have simulated the system using different methods. However, I couldn't use multiple classes to find the over flow cost and finish the project.\""
   ]
  }
 ],
 "metadata": {
  "kernelspec": {
   "display_name": "Python 3",
   "language": "python",
   "name": "python3"
  },
  "language_info": {
   "codemirror_mode": {
    "name": "ipython",
    "version": 3
   },
   "file_extension": ".py",
   "mimetype": "text/x-python",
   "name": "python",
   "nbconvert_exporter": "python",
   "pygments_lexer": "ipython3",
   "version": "3.8.3"
  }
 },
 "nbformat": 4,
 "nbformat_minor": 4
}
